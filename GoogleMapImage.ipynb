{
 "cells": [
  {
   "cell_type": "code",
   "execution_count": 2,
   "metadata": {},
   "outputs": [],
   "source": [
    "from selenium import webdriver\n",
    "from time import sleep\n",
    "from selenium.webdriver.common.by import By\n",
    "import requests\n",
    "import os\n",
    "import wget\n",
    "import pandas as pd "
   ]
  },
  {
   "cell_type": "code",
   "execution_count": 5,
   "metadata": {},
   "outputs": [
    {
     "name": "stdout",
     "output_type": "stream",
     "text": [
      "[1322]\n"
     ]
    }
   ],
   "source": [
    "#search the index where the crawler had been done last time\n",
    "df = pd.read_csv('BGMOPEN1.csv')\n",
    "print(df.index[df['營業人名稱'] == \"東光一鄰霹靂嬌娃\"].tolist())"
   ]
  },
  {
   "cell_type": "code",
   "execution_count": 6,
   "metadata": {},
   "outputs": [
    {
     "name": "stderr",
     "output_type": "stream",
     "text": [
      "C:\\Users\\overf\\AppData\\Local\\Temp/ipykernel_23320/4275910189.py:3: DeprecationWarning: executable_path has been deprecated, please pass in a Service object\n",
      "  driver = webdriver.Chrome(Path)\n"
     ]
    },
    {
     "ename": "KeyboardInterrupt",
     "evalue": "",
     "output_type": "error",
     "traceback": [
      "\u001b[1;31m---------------------------------------------------------------------------\u001b[0m",
      "\u001b[1;31mKeyboardInterrupt\u001b[0m                         Traceback (most recent call last)",
      "\u001b[1;32m~\\AppData\\Local\\Temp/ipykernel_23320/4275910189.py\u001b[0m in \u001b[0;36m<module>\u001b[1;34m\u001b[0m\n\u001b[0;32m     20\u001b[0m     \u001b[0mbutton_search\u001b[0m \u001b[1;33m=\u001b[0m \u001b[0mdriver\u001b[0m\u001b[1;33m.\u001b[0m\u001b[0mfind_element\u001b[0m\u001b[1;33m(\u001b[0m\u001b[1;34m\"xpath\"\u001b[0m\u001b[1;33m,\u001b[0m \u001b[1;34m'//*[@id=\"searchbox-searchbutton\"]'\u001b[0m\u001b[1;33m)\u001b[0m\u001b[1;33m\u001b[0m\u001b[1;33m\u001b[0m\u001b[0m\n\u001b[0;32m     21\u001b[0m     \u001b[0mbutton_search\u001b[0m\u001b[1;33m.\u001b[0m\u001b[0mclick\u001b[0m\u001b[1;33m(\u001b[0m\u001b[1;33m)\u001b[0m\u001b[1;33m\u001b[0m\u001b[1;33m\u001b[0m\u001b[0m\n\u001b[1;32m---> 22\u001b[1;33m     \u001b[0msleep\u001b[0m\u001b[1;33m(\u001b[0m\u001b[1;36m3\u001b[0m\u001b[1;33m)\u001b[0m\u001b[1;33m\u001b[0m\u001b[1;33m\u001b[0m\u001b[0m\n\u001b[0m\u001b[0;32m     23\u001b[0m \u001b[1;33m\u001b[0m\u001b[0m\n\u001b[0;32m     24\u001b[0m     \u001b[1;31m#get image\u001b[0m\u001b[1;33m\u001b[0m\u001b[1;33m\u001b[0m\u001b[0m\n",
      "\u001b[1;31mKeyboardInterrupt\u001b[0m: "
     ]
    }
   ],
   "source": [
    "df = pd.read_csv('BGMOPEN1.csv')\n",
    "Path = \"C:/Users/overf/Desktop/python/chromedriver_win32/chromedriver.exe\"\n",
    "driver = webdriver.Chrome(Path)\n",
    "driver.get(\"https://www.google.com.tw/maps/@23.546162,120.6402133,8z?hl=zh-TW\")\n",
    "\n",
    "for i in range(1323,len(df.index)):\n",
    "\n",
    "    comp_address = df._get_value(i, '營業地址')\n",
    "    if comp_address == \"\":\n",
    "        continue\n",
    "    comp_name = df._get_value(i, '營業人名稱')\n",
    "\n",
    "    #enter address in google search line\n",
    "    sleep(3)\n",
    "    Keyword = driver.find_element(\"name\", 'q')\n",
    "    Keyword.clear()\n",
    "    Keyword.send_keys(comp_address)\n",
    "\n",
    "    #press search button\n",
    "    button_search = driver.find_element(\"xpath\", '//*[@id=\"searchbox-searchbutton\"]')\n",
    "    button_search.click()\n",
    "    sleep(3)\n",
    "\n",
    "    #get image\n",
    "    link_list = []\n",
    "    imgs = driver.find_elements(By.TAG_NAME, 'img')\n",
    "\n",
    "    try:\n",
    "        for img in imgs:\n",
    "            # print(img.get_attribute(\"src\"))\n",
    "            link_list.append(img.get_attribute(\"src\"))\n",
    "\n",
    "        link_list = list(filter(None, link_list)) # remove nonetype\n",
    "\n",
    "        img_link = []\n",
    "        for link in link_list:\n",
    "            if \"streetviewpixels\" in link:\n",
    "                img_link.append(link)\n",
    "        \n",
    "        img_link = list(set(img_link))\n",
    "        # print(img_link)\n",
    "\n",
    "        if not os.path.exists(\"GoogleMapImage\"):\n",
    "            os.mkdir(\"GoogleMapImage\") # 建立資料夾\n",
    "\n",
    "        folder_path = 'C:/Users/overf/CompanyAnalysis/GoogleMapImage/' + comp_name + \"_folder\"\n",
    "\n",
    "        # download and save the image\n",
    "        if img_link == []:\n",
    "            continue\n",
    "        \n",
    "        os.makedirs(folder_path) # 建立子資料夾\n",
    "        # 因為寫在try 裡面，所以遇到重複資料夾名稱就會直接跳下個迴圈\n",
    "\n",
    "        count =  0\n",
    "        for j in img_link:\n",
    "            \n",
    "            img = requests.get(j) # 下載圖片\n",
    "\n",
    "            with open(folder_path + \"\\\\\" + comp_name + str(count) +\".jpg\", \"wb\") as file:  # 開啟資料夾及命名圖片檔\n",
    "                file.write(img.content)  # 寫入圖片的二進位碼\n",
    "\n",
    "            count += 1\n",
    "\n",
    "    except:\n",
    "        pass\n",
    "    "
   ]
  }
 ],
 "metadata": {
  "kernelspec": {
   "display_name": "Python 3.9.12 ('base')",
   "language": "python",
   "name": "python3"
  },
  "language_info": {
   "codemirror_mode": {
    "name": "ipython",
    "version": 3
   },
   "file_extension": ".py",
   "mimetype": "text/x-python",
   "name": "python",
   "nbconvert_exporter": "python",
   "pygments_lexer": "ipython3",
   "version": "3.9.12"
  },
  "orig_nbformat": 4,
  "vscode": {
   "interpreter": {
    "hash": "ba181fbcb27fcf7ec77d588abcd4688aa418d73524c03bafafb5f01e5bb121dd"
   }
  }
 },
 "nbformat": 4,
 "nbformat_minor": 2
}
